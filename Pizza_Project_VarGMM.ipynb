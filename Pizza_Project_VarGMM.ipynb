{
 "cells": [
  {
   "cell_type": "code",
   "execution_count": 18,
   "metadata": {},
   "outputs": [],
   "source": [
    "import pandas as pd\n",
    "import pickle\n",
    "import matplotlib.pyplot as plt\n",
    "from scipy.interpolate import make_interp_spline, BSpline\n",
    "import numpy as np"
   ]
  },
  {
   "cell_type": "code",
   "execution_count": 19,
   "metadata": {},
   "outputs": [
    {
     "data": {
      "text/html": [
       "<div>\n",
       "<style scoped>\n",
       "    .dataframe tbody tr th:only-of-type {\n",
       "        vertical-align: middle;\n",
       "    }\n",
       "\n",
       "    .dataframe tbody tr th {\n",
       "        vertical-align: top;\n",
       "    }\n",
       "\n",
       "    .dataframe thead th {\n",
       "        text-align: right;\n",
       "    }\n",
       "</style>\n",
       "<table border=\"1\" class=\"dataframe\">\n",
       "  <thead>\n",
       "    <tr style=\"text-align: right;\">\n",
       "      <th></th>\n",
       "      <th>id</th>\n",
       "      <th>Neighb</th>\n",
       "      <th>Restaurant</th>\n",
       "      <th>Hour</th>\n",
       "      <th>Monday</th>\n",
       "      <th>Tuesday</th>\n",
       "      <th>Wednesday</th>\n",
       "      <th>Thursday</th>\n",
       "      <th>Friday</th>\n",
       "      <th>Saturday</th>\n",
       "      <th>Sunday</th>\n",
       "    </tr>\n",
       "  </thead>\n",
       "  <tbody>\n",
       "    <tr>\n",
       "      <th>0</th>\n",
       "      <td>ChIJx8KiHcx9j4AR7KYfgcUQk1g</td>\n",
       "      <td>Mission</td>\n",
       "      <td>Mr. Pizza Man</td>\n",
       "      <td>0.0</td>\n",
       "      <td>0.0</td>\n",
       "      <td>0.0</td>\n",
       "      <td>0.0</td>\n",
       "      <td>0.0</td>\n",
       "      <td>0.0</td>\n",
       "      <td>37.0</td>\n",
       "      <td>62.0</td>\n",
       "    </tr>\n",
       "    <tr>\n",
       "      <th>1</th>\n",
       "      <td>ChIJx8KiHcx9j4AR7KYfgcUQk1g</td>\n",
       "      <td>Mission</td>\n",
       "      <td>Mr. Pizza Man</td>\n",
       "      <td>1.0</td>\n",
       "      <td>0.0</td>\n",
       "      <td>0.0</td>\n",
       "      <td>0.0</td>\n",
       "      <td>0.0</td>\n",
       "      <td>0.0</td>\n",
       "      <td>77.0</td>\n",
       "      <td>55.0</td>\n",
       "    </tr>\n",
       "    <tr>\n",
       "      <th>2</th>\n",
       "      <td>ChIJx8KiHcx9j4AR7KYfgcUQk1g</td>\n",
       "      <td>Mission</td>\n",
       "      <td>Mr. Pizza Man</td>\n",
       "      <td>2.0</td>\n",
       "      <td>0.0</td>\n",
       "      <td>0.0</td>\n",
       "      <td>0.0</td>\n",
       "      <td>0.0</td>\n",
       "      <td>0.0</td>\n",
       "      <td>25.0</td>\n",
       "      <td>62.0</td>\n",
       "    </tr>\n",
       "    <tr>\n",
       "      <th>3</th>\n",
       "      <td>ChIJx8KiHcx9j4AR7KYfgcUQk1g</td>\n",
       "      <td>Mission</td>\n",
       "      <td>Mr. Pizza Man</td>\n",
       "      <td>3.0</td>\n",
       "      <td>0.0</td>\n",
       "      <td>0.0</td>\n",
       "      <td>0.0</td>\n",
       "      <td>0.0</td>\n",
       "      <td>0.0</td>\n",
       "      <td>0.0</td>\n",
       "      <td>0.0</td>\n",
       "    </tr>\n",
       "    <tr>\n",
       "      <th>4</th>\n",
       "      <td>ChIJx8KiHcx9j4AR7KYfgcUQk1g</td>\n",
       "      <td>Mission</td>\n",
       "      <td>Mr. Pizza Man</td>\n",
       "      <td>4.0</td>\n",
       "      <td>0.0</td>\n",
       "      <td>0.0</td>\n",
       "      <td>0.0</td>\n",
       "      <td>0.0</td>\n",
       "      <td>0.0</td>\n",
       "      <td>0.0</td>\n",
       "      <td>0.0</td>\n",
       "    </tr>\n",
       "  </tbody>\n",
       "</table>\n",
       "</div>"
      ],
      "text/plain": [
       "                            id   Neighb     Restaurant  Hour  Monday  Tuesday  \\\n",
       "0  ChIJx8KiHcx9j4AR7KYfgcUQk1g  Mission  Mr. Pizza Man   0.0     0.0      0.0   \n",
       "1  ChIJx8KiHcx9j4AR7KYfgcUQk1g  Mission  Mr. Pizza Man   1.0     0.0      0.0   \n",
       "2  ChIJx8KiHcx9j4AR7KYfgcUQk1g  Mission  Mr. Pizza Man   2.0     0.0      0.0   \n",
       "3  ChIJx8KiHcx9j4AR7KYfgcUQk1g  Mission  Mr. Pizza Man   3.0     0.0      0.0   \n",
       "4  ChIJx8KiHcx9j4AR7KYfgcUQk1g  Mission  Mr. Pizza Man   4.0     0.0      0.0   \n",
       "\n",
       "   Wednesday  Thursday  Friday  Saturday  Sunday  \n",
       "0        0.0       0.0     0.0      37.0    62.0  \n",
       "1        0.0       0.0     0.0      77.0    55.0  \n",
       "2        0.0       0.0     0.0      25.0    62.0  \n",
       "3        0.0       0.0     0.0       0.0     0.0  \n",
       "4        0.0       0.0     0.0       0.0     0.0  "
      ]
     },
     "execution_count": 19,
     "metadata": {},
     "output_type": "execute_result"
    }
   ],
   "source": [
    "pizza_df = pd.read_csv('pizza_data.csv').drop('Unnamed: 0', axis = 1)\n",
    "pizza_df.head()"
   ]
  },
  {
   "cell_type": "code",
   "execution_count": 20,
   "metadata": {},
   "outputs": [],
   "source": [
    "pizza_df.loc[(pizza_df.Hour == 0) | (pizza_df.Hour == 1) | (pizza_df.Hour == 2), \"UpdatedHour\"] = pizza_df.Hour + 24\n",
    "pizza_df.loc[(pizza_df.Hour != 0) & (pizza_df.Hour != 1) & (pizza_df.Hour != 2), \"UpdatedHour\"] = pizza_df.Hour"
   ]
  },
  {
   "cell_type": "code",
   "execution_count": 21,
   "metadata": {},
   "outputs": [
    {
     "data": {
      "text/html": [
       "<div>\n",
       "<style scoped>\n",
       "    .dataframe tbody tr th:only-of-type {\n",
       "        vertical-align: middle;\n",
       "    }\n",
       "\n",
       "    .dataframe tbody tr th {\n",
       "        vertical-align: top;\n",
       "    }\n",
       "\n",
       "    .dataframe thead th {\n",
       "        text-align: right;\n",
       "    }\n",
       "</style>\n",
       "<table border=\"1\" class=\"dataframe\">\n",
       "  <thead>\n",
       "    <tr style=\"text-align: right;\">\n",
       "      <th></th>\n",
       "      <th>id</th>\n",
       "      <th>Neighb</th>\n",
       "      <th>Restaurant</th>\n",
       "      <th>Hour</th>\n",
       "      <th>Monday</th>\n",
       "      <th>Tuesday</th>\n",
       "      <th>Wednesday</th>\n",
       "      <th>Thursday</th>\n",
       "      <th>Friday</th>\n",
       "      <th>Saturday</th>\n",
       "      <th>Sunday</th>\n",
       "      <th>UpdatedHour</th>\n",
       "    </tr>\n",
       "  </thead>\n",
       "  <tbody>\n",
       "    <tr>\n",
       "      <th>0</th>\n",
       "      <td>ChIJx8KiHcx9j4AR7KYfgcUQk1g</td>\n",
       "      <td>Mission</td>\n",
       "      <td>Mr. Pizza Man</td>\n",
       "      <td>0.0</td>\n",
       "      <td>0.0</td>\n",
       "      <td>0.0</td>\n",
       "      <td>0.0</td>\n",
       "      <td>0.0</td>\n",
       "      <td>0.0</td>\n",
       "      <td>37.0</td>\n",
       "      <td>62.0</td>\n",
       "      <td>24.0</td>\n",
       "    </tr>\n",
       "    <tr>\n",
       "      <th>1</th>\n",
       "      <td>ChIJx8KiHcx9j4AR7KYfgcUQk1g</td>\n",
       "      <td>Mission</td>\n",
       "      <td>Mr. Pizza Man</td>\n",
       "      <td>1.0</td>\n",
       "      <td>0.0</td>\n",
       "      <td>0.0</td>\n",
       "      <td>0.0</td>\n",
       "      <td>0.0</td>\n",
       "      <td>0.0</td>\n",
       "      <td>77.0</td>\n",
       "      <td>55.0</td>\n",
       "      <td>25.0</td>\n",
       "    </tr>\n",
       "    <tr>\n",
       "      <th>2</th>\n",
       "      <td>ChIJx8KiHcx9j4AR7KYfgcUQk1g</td>\n",
       "      <td>Mission</td>\n",
       "      <td>Mr. Pizza Man</td>\n",
       "      <td>2.0</td>\n",
       "      <td>0.0</td>\n",
       "      <td>0.0</td>\n",
       "      <td>0.0</td>\n",
       "      <td>0.0</td>\n",
       "      <td>0.0</td>\n",
       "      <td>25.0</td>\n",
       "      <td>62.0</td>\n",
       "      <td>26.0</td>\n",
       "    </tr>\n",
       "    <tr>\n",
       "      <th>3</th>\n",
       "      <td>ChIJx8KiHcx9j4AR7KYfgcUQk1g</td>\n",
       "      <td>Mission</td>\n",
       "      <td>Mr. Pizza Man</td>\n",
       "      <td>3.0</td>\n",
       "      <td>0.0</td>\n",
       "      <td>0.0</td>\n",
       "      <td>0.0</td>\n",
       "      <td>0.0</td>\n",
       "      <td>0.0</td>\n",
       "      <td>0.0</td>\n",
       "      <td>0.0</td>\n",
       "      <td>3.0</td>\n",
       "    </tr>\n",
       "    <tr>\n",
       "      <th>4</th>\n",
       "      <td>ChIJx8KiHcx9j4AR7KYfgcUQk1g</td>\n",
       "      <td>Mission</td>\n",
       "      <td>Mr. Pizza Man</td>\n",
       "      <td>4.0</td>\n",
       "      <td>0.0</td>\n",
       "      <td>0.0</td>\n",
       "      <td>0.0</td>\n",
       "      <td>0.0</td>\n",
       "      <td>0.0</td>\n",
       "      <td>0.0</td>\n",
       "      <td>0.0</td>\n",
       "      <td>4.0</td>\n",
       "    </tr>\n",
       "  </tbody>\n",
       "</table>\n",
       "</div>"
      ],
      "text/plain": [
       "                            id   Neighb     Restaurant  Hour  Monday  Tuesday  \\\n",
       "0  ChIJx8KiHcx9j4AR7KYfgcUQk1g  Mission  Mr. Pizza Man   0.0     0.0      0.0   \n",
       "1  ChIJx8KiHcx9j4AR7KYfgcUQk1g  Mission  Mr. Pizza Man   1.0     0.0      0.0   \n",
       "2  ChIJx8KiHcx9j4AR7KYfgcUQk1g  Mission  Mr. Pizza Man   2.0     0.0      0.0   \n",
       "3  ChIJx8KiHcx9j4AR7KYfgcUQk1g  Mission  Mr. Pizza Man   3.0     0.0      0.0   \n",
       "4  ChIJx8KiHcx9j4AR7KYfgcUQk1g  Mission  Mr. Pizza Man   4.0     0.0      0.0   \n",
       "\n",
       "   Wednesday  Thursday  Friday  Saturday  Sunday  UpdatedHour  \n",
       "0        0.0       0.0     0.0      37.0    62.0         24.0  \n",
       "1        0.0       0.0     0.0      77.0    55.0         25.0  \n",
       "2        0.0       0.0     0.0      25.0    62.0         26.0  \n",
       "3        0.0       0.0     0.0       0.0     0.0          3.0  \n",
       "4        0.0       0.0     0.0       0.0     0.0          4.0  "
      ]
     },
     "execution_count": 21,
     "metadata": {},
     "output_type": "execute_result"
    }
   ],
   "source": [
    "pizza_df.head()"
   ]
  },
  {
   "cell_type": "code",
   "execution_count": 22,
   "metadata": {},
   "outputs": [],
   "source": [
    "by_hour = pizza_df.groupby(['Hour']).mean()\n",
    "by_neighb_hour = pizza_df.groupby(['Neighb','UpdatedHour']).mean().reset_index()\n",
    "neighb_count = pizza_df.Neighb.value_counts()/24"
   ]
  },
  {
   "cell_type": "code",
   "execution_count": 23,
   "metadata": {},
   "outputs": [
    {
     "data": {
      "text/html": [
       "<div>\n",
       "<style scoped>\n",
       "    .dataframe tbody tr th:only-of-type {\n",
       "        vertical-align: middle;\n",
       "    }\n",
       "\n",
       "    .dataframe tbody tr th {\n",
       "        vertical-align: top;\n",
       "    }\n",
       "\n",
       "    .dataframe thead th {\n",
       "        text-align: right;\n",
       "    }\n",
       "</style>\n",
       "<table border=\"1\" class=\"dataframe\">\n",
       "  <thead>\n",
       "    <tr style=\"text-align: right;\">\n",
       "      <th></th>\n",
       "      <th>id</th>\n",
       "      <th>Neighb</th>\n",
       "      <th>Restaurant</th>\n",
       "      <th>Hour</th>\n",
       "      <th>Monday</th>\n",
       "      <th>Tuesday</th>\n",
       "      <th>Wednesday</th>\n",
       "      <th>Thursday</th>\n",
       "      <th>Friday</th>\n",
       "      <th>Saturday</th>\n",
       "      <th>Sunday</th>\n",
       "      <th>UpdatedHour</th>\n",
       "      <th>WeekdayHourSum</th>\n",
       "      <th>WeekendHourSum</th>\n",
       "    </tr>\n",
       "  </thead>\n",
       "  <tbody>\n",
       "    <tr>\n",
       "      <th>0</th>\n",
       "      <td>ChIJx8KiHcx9j4AR7KYfgcUQk1g</td>\n",
       "      <td>Mission</td>\n",
       "      <td>Mr. Pizza Man</td>\n",
       "      <td>0.0</td>\n",
       "      <td>0.0</td>\n",
       "      <td>0.0</td>\n",
       "      <td>0.0</td>\n",
       "      <td>0.0</td>\n",
       "      <td>0.0</td>\n",
       "      <td>37.0</td>\n",
       "      <td>62.0</td>\n",
       "      <td>24.0</td>\n",
       "      <td>0.0</td>\n",
       "      <td>99.0</td>\n",
       "    </tr>\n",
       "    <tr>\n",
       "      <th>1</th>\n",
       "      <td>ChIJx8KiHcx9j4AR7KYfgcUQk1g</td>\n",
       "      <td>Mission</td>\n",
       "      <td>Mr. Pizza Man</td>\n",
       "      <td>1.0</td>\n",
       "      <td>0.0</td>\n",
       "      <td>0.0</td>\n",
       "      <td>0.0</td>\n",
       "      <td>0.0</td>\n",
       "      <td>0.0</td>\n",
       "      <td>77.0</td>\n",
       "      <td>55.0</td>\n",
       "      <td>25.0</td>\n",
       "      <td>0.0</td>\n",
       "      <td>132.0</td>\n",
       "    </tr>\n",
       "    <tr>\n",
       "      <th>2</th>\n",
       "      <td>ChIJx8KiHcx9j4AR7KYfgcUQk1g</td>\n",
       "      <td>Mission</td>\n",
       "      <td>Mr. Pizza Man</td>\n",
       "      <td>2.0</td>\n",
       "      <td>0.0</td>\n",
       "      <td>0.0</td>\n",
       "      <td>0.0</td>\n",
       "      <td>0.0</td>\n",
       "      <td>0.0</td>\n",
       "      <td>25.0</td>\n",
       "      <td>62.0</td>\n",
       "      <td>26.0</td>\n",
       "      <td>0.0</td>\n",
       "      <td>87.0</td>\n",
       "    </tr>\n",
       "    <tr>\n",
       "      <th>3</th>\n",
       "      <td>ChIJx8KiHcx9j4AR7KYfgcUQk1g</td>\n",
       "      <td>Mission</td>\n",
       "      <td>Mr. Pizza Man</td>\n",
       "      <td>3.0</td>\n",
       "      <td>0.0</td>\n",
       "      <td>0.0</td>\n",
       "      <td>0.0</td>\n",
       "      <td>0.0</td>\n",
       "      <td>0.0</td>\n",
       "      <td>0.0</td>\n",
       "      <td>0.0</td>\n",
       "      <td>3.0</td>\n",
       "      <td>0.0</td>\n",
       "      <td>0.0</td>\n",
       "    </tr>\n",
       "    <tr>\n",
       "      <th>4</th>\n",
       "      <td>ChIJx8KiHcx9j4AR7KYfgcUQk1g</td>\n",
       "      <td>Mission</td>\n",
       "      <td>Mr. Pizza Man</td>\n",
       "      <td>4.0</td>\n",
       "      <td>0.0</td>\n",
       "      <td>0.0</td>\n",
       "      <td>0.0</td>\n",
       "      <td>0.0</td>\n",
       "      <td>0.0</td>\n",
       "      <td>0.0</td>\n",
       "      <td>0.0</td>\n",
       "      <td>4.0</td>\n",
       "      <td>0.0</td>\n",
       "      <td>0.0</td>\n",
       "    </tr>\n",
       "  </tbody>\n",
       "</table>\n",
       "</div>"
      ],
      "text/plain": [
       "                            id   Neighb     Restaurant  Hour  Monday  Tuesday  \\\n",
       "0  ChIJx8KiHcx9j4AR7KYfgcUQk1g  Mission  Mr. Pizza Man   0.0     0.0      0.0   \n",
       "1  ChIJx8KiHcx9j4AR7KYfgcUQk1g  Mission  Mr. Pizza Man   1.0     0.0      0.0   \n",
       "2  ChIJx8KiHcx9j4AR7KYfgcUQk1g  Mission  Mr. Pizza Man   2.0     0.0      0.0   \n",
       "3  ChIJx8KiHcx9j4AR7KYfgcUQk1g  Mission  Mr. Pizza Man   3.0     0.0      0.0   \n",
       "4  ChIJx8KiHcx9j4AR7KYfgcUQk1g  Mission  Mr. Pizza Man   4.0     0.0      0.0   \n",
       "\n",
       "   Wednesday  Thursday  Friday  Saturday  Sunday  UpdatedHour  WeekdayHourSum  \\\n",
       "0        0.0       0.0     0.0      37.0    62.0         24.0             0.0   \n",
       "1        0.0       0.0     0.0      77.0    55.0         25.0             0.0   \n",
       "2        0.0       0.0     0.0      25.0    62.0         26.0             0.0   \n",
       "3        0.0       0.0     0.0       0.0     0.0          3.0             0.0   \n",
       "4        0.0       0.0     0.0       0.0     0.0          4.0             0.0   \n",
       "\n",
       "   WeekendHourSum  \n",
       "0            99.0  \n",
       "1           132.0  \n",
       "2            87.0  \n",
       "3             0.0  \n",
       "4             0.0  "
      ]
     },
     "execution_count": 23,
     "metadata": {},
     "output_type": "execute_result"
    }
   ],
   "source": [
    "# Creating new Dataframe of pizza shop, lunch busyness, dinner busyness, late night busyness, and area\n",
    "#rest = pizza_df.groupby('Restaurant')\n",
    "pizza_df['WeekdayHourSum'] = pizza_df['Monday'] + pizza_df['Tuesday'] + pizza_df['Wednesday'] + pizza_df['Thursday'] + pizza_df['Friday']\n",
    "pizza_df['WeekendHourSum'] = pizza_df['Saturday'] + pizza_df['Sunday']\n",
    "pizza_df.head()"
   ]
  },
  {
   "cell_type": "code",
   "execution_count": 24,
   "metadata": {},
   "outputs": [
    {
     "data": {
      "text/html": [
       "<div>\n",
       "<style scoped>\n",
       "    .dataframe tbody tr th:only-of-type {\n",
       "        vertical-align: middle;\n",
       "    }\n",
       "\n",
       "    .dataframe tbody tr th {\n",
       "        vertical-align: top;\n",
       "    }\n",
       "\n",
       "    .dataframe thead th {\n",
       "        text-align: right;\n",
       "    }\n",
       "</style>\n",
       "<table border=\"1\" class=\"dataframe\">\n",
       "  <thead>\n",
       "    <tr style=\"text-align: right;\">\n",
       "      <th></th>\n",
       "      <th>restaurant</th>\n",
       "      <th>area</th>\n",
       "      <th>weekday_lunch_avg</th>\n",
       "      <th>weekend_lunch_avg</th>\n",
       "      <th>lunch_avg</th>\n",
       "      <th>weekday_dinner_avg</th>\n",
       "      <th>weekend_dinner_avg</th>\n",
       "      <th>dinner_avg</th>\n",
       "      <th>l8_nite_avg</th>\n",
       "    </tr>\n",
       "  </thead>\n",
       "  <tbody>\n",
       "    <tr>\n",
       "      <th>0</th>\n",
       "      <td>Presidio Pizza Company</td>\n",
       "      <td>Polk</td>\n",
       "      <td>39.35</td>\n",
       "      <td>21.750</td>\n",
       "      <td>30.5500</td>\n",
       "      <td>50.50</td>\n",
       "      <td>72.250</td>\n",
       "      <td>61.3750</td>\n",
       "      <td>28.000000</td>\n",
       "    </tr>\n",
       "    <tr>\n",
       "      <th>1</th>\n",
       "      <td>Pizzeria Delfina (1)</td>\n",
       "      <td>Mission</td>\n",
       "      <td>9.90</td>\n",
       "      <td>18.125</td>\n",
       "      <td>14.0125</td>\n",
       "      <td>54.85</td>\n",
       "      <td>70.250</td>\n",
       "      <td>62.5500</td>\n",
       "      <td>0.000000</td>\n",
       "    </tr>\n",
       "    <tr>\n",
       "      <th>2</th>\n",
       "      <td>SF Hole in the Wall Pizza</td>\n",
       "      <td>Polk</td>\n",
       "      <td>2.50</td>\n",
       "      <td>9.375</td>\n",
       "      <td>5.9375</td>\n",
       "      <td>23.00</td>\n",
       "      <td>24.500</td>\n",
       "      <td>23.7500</td>\n",
       "      <td>41.666667</td>\n",
       "    </tr>\n",
       "    <tr>\n",
       "      <th>3</th>\n",
       "      <td>California Pizza Kitchen</td>\n",
       "      <td>Financial District</td>\n",
       "      <td>53.75</td>\n",
       "      <td>34.875</td>\n",
       "      <td>44.3125</td>\n",
       "      <td>72.75</td>\n",
       "      <td>69.625</td>\n",
       "      <td>71.1875</td>\n",
       "      <td>0.000000</td>\n",
       "    </tr>\n",
       "    <tr>\n",
       "      <th>4</th>\n",
       "      <td>Nizario's Pizza The Castro</td>\n",
       "      <td>Mission</td>\n",
       "      <td>0.00</td>\n",
       "      <td>10.000</td>\n",
       "      <td>5.0000</td>\n",
       "      <td>16.40</td>\n",
       "      <td>51.375</td>\n",
       "      <td>33.8875</td>\n",
       "      <td>61.500000</td>\n",
       "    </tr>\n",
       "  </tbody>\n",
       "</table>\n",
       "</div>"
      ],
      "text/plain": [
       "                   restaurant                area  weekday_lunch_avg  \\\n",
       "0      Presidio Pizza Company                Polk              39.35   \n",
       "1        Pizzeria Delfina (1)             Mission               9.90   \n",
       "2   SF Hole in the Wall Pizza                Polk               2.50   \n",
       "3    California Pizza Kitchen  Financial District              53.75   \n",
       "4  Nizario's Pizza The Castro             Mission               0.00   \n",
       "\n",
       "   weekend_lunch_avg  lunch_avg  weekday_dinner_avg  weekend_dinner_avg  \\\n",
       "0             21.750    30.5500               50.50              72.250   \n",
       "1             18.125    14.0125               54.85              70.250   \n",
       "2              9.375     5.9375               23.00              24.500   \n",
       "3             34.875    44.3125               72.75              69.625   \n",
       "4             10.000     5.0000               16.40              51.375   \n",
       "\n",
       "   dinner_avg  l8_nite_avg  \n",
       "0     61.3750    28.000000  \n",
       "1     62.5500     0.000000  \n",
       "2     23.7500    41.666667  \n",
       "3     71.1875     0.000000  \n",
       "4     33.8875    61.500000  "
      ]
     },
     "execution_count": 24,
     "metadata": {},
     "output_type": "execute_result"
    }
   ],
   "source": [
    "# find lunch, dinner, and late nite\n",
    "data = []\n",
    "for i in set(pizza_df['id']):\n",
    "    rest = pizza_df[pizza_df['id'] == i]\n",
    "    area = rest.iloc[0, 1]\n",
    "    restaurant = rest.iloc[0, 2]\n",
    "    weekday_lunch_avg = (rest.iloc[11, 12]/5 + rest.iloc[12, 12]/5 + rest.iloc[13, 12]/5 + rest.iloc[14, 12]/5)/4\n",
    "    weekend_lunch_avg = (rest.iloc[11, 13]/2 + rest.iloc[12, 13]/2 + rest.iloc[13, 13]/2 + rest.iloc[14, 13]/2)/4\n",
    "    lunch_avg = (rest.iloc[11, 12]/5 + rest.iloc[12, 12]/5 + rest.iloc[13, 12]/5 + rest.iloc[14, 12]/5 + rest.iloc[11, 13]/2\n",
    "                 + rest.iloc[12, 13]/2 + rest.iloc[13, 13]/2 + rest.iloc[14, 13]/2)/8\n",
    "    weekday_dinner_avg = (rest.iloc[17, 12]/5 + rest.iloc[18, 12]/5 + rest.iloc[19, 12]/5 + rest.iloc[20, 12]/5)/4\n",
    "    weekend_dinner_avg = (rest.iloc[17, 13]/2 + rest.iloc[18, 13]/2 + rest.iloc[19, 13]/2 + rest.iloc[20, 13]/2)/4\n",
    "    dinner_avg = (weekday_dinner_avg*4 + weekend_dinner_avg*4)/8\n",
    "    l8_nite_avg = (rest.iloc[0,9] + rest.iloc[1,9] + rest.iloc[2,9] + rest.iloc[0,10] + rest.iloc[1,10] + rest.iloc[2,10])/6\n",
    "    rest_row = [restaurant, area, weekday_lunch_avg, weekend_lunch_avg, lunch_avg, weekday_dinner_avg, weekend_dinner_avg, dinner_avg, l8_nite_avg]\n",
    "    data.append(rest_row)\n",
    "final_df = pd.DataFrame(data, columns = ['restaurant','area', 'weekday_lunch_avg', 'weekend_lunch_avg', 'lunch_avg', 'weekday_dinner_avg', 'weekend_dinner_avg', 'dinner_avg', 'l8_nite_avg'] )\n",
    "final_df.head()"
   ]
  },
  {
   "cell_type": "code",
   "execution_count": 25,
   "metadata": {},
   "outputs": [],
   "source": [
    "# Creating subsets of the dataframe\n",
    "final_df['area'] = final_df['area'].astype('category')\n",
    "\n",
    "# avg lunch, dinner, and late night\n",
    "data1 = final_df[['lunch_avg', 'dinner_avg', 'l8_nite_avg']]\n",
    "\n",
    "# avg lunch, dinner, late night, and area\n",
    "data2 = final_df[['area', 'lunch_avg', 'dinner_avg', 'l8_nite_avg']]\n",
    "data2 = pd.get_dummies(data2)\n",
    "\n",
    "# weekday vs weekend and late night\n",
    "data3 = final_df[['weekday_lunch_avg', 'weekend_lunch_avg', 'weekday_dinner_avg', 'weekend_dinner_avg', 'l8_nite_avg']]\n",
    "\n",
    "# weekday vs weekend, late night, area\n",
    "data4 = final_df[['area', 'weekday_lunch_avg', 'weekend_lunch_avg', 'weekday_dinner_avg', 'weekend_dinner_avg', 'l8_nite_avg']]\n",
    "data4 = pd.get_dummies(data4)\n"
   ]
  },
  {
   "cell_type": "code",
   "execution_count": 26,
   "metadata": {},
   "outputs": [
    {
     "data": {
      "text/plain": [
       "2"
      ]
     },
     "execution_count": 26,
     "metadata": {},
     "output_type": "execute_result"
    }
   ],
   "source": [
    "from sklearn.mixture import BayesianGaussianMixture\n",
    "bgm = BayesianGaussianMixture(n_components=15)\n",
    "fit = bgm.fit(X=data1)\n",
    "labels = fit.predict(data1)\n",
    "len(set(labels))"
   ]
  },
  {
   "cell_type": "code",
   "execution_count": 27,
   "metadata": {},
   "outputs": [
    {
     "data": {
      "image/png": "[encoded data removed]",
      "text/plain": [
       "<Figure size 432x288 with 1 Axes>"
      ]
     },
     "metadata": {
      "needs_background": "light"
     },
     "output_type": "display_data"
    }
   ],
   "source": [
    "final_df.plot.scatter(x = 'lunch_avg', y = 'l8_nite_avg')\n",
    "plt.title(\"Dinner Busyness vs Lunch Busyness\")\n",
    "plt.ylabel('Dinner')\n",
    "plt.xlabel('Lunch')\n",
    "plt.savefig('project_plot_not_colorcoded.png')"
   ]
  },
  {
   "cell_type": "code",
   "execution_count": 28,
   "metadata": {},
   "outputs": [
    {
     "data": {
      "image/png": "[encoded data removed]",
      "text/plain": [
       "<Figure size 432x288 with 2 Axes>"
      ]
     },
     "metadata": {
      "needs_background": "light"
     },
     "output_type": "display_data"
    }
   ],
   "source": [
    "final_df.plot.scatter(x = 'lunch_avg', y = 'dinner_avg', c=labels, colormap='rainbow')\n",
    "plt.title(\"Dinner Busyness vs Lunch Busyness\")\n",
    "plt.ylabel('Dinner')\n",
    "plt.xlabel('Lunch')\n",
    "plt.savefig('dinner_lunch_plot.png')"
   ]
  },
  {
   "cell_type": "code",
   "execution_count": 29,
   "metadata": {},
   "outputs": [
    {
     "data": {
      "text/plain": [
       "array([1, 0, 1, 0, 1, 0, 0, 0, 0, 1, 1, 0, 0, 0, 0, 1, 0, 0, 1, 0, 1, 0,\n",
       "       0, 0, 0, 1, 0, 0, 1, 0, 1, 0, 0, 1, 0, 1, 0, 1, 0, 0, 1, 1, 0, 1,\n",
       "       0, 0, 0, 0, 0], dtype=int64)"
      ]
     },
     "execution_count": 29,
     "metadata": {},
     "output_type": "execute_result"
    }
   ],
   "source": [
    "labels"
   ]
  },
  {
   "cell_type": "code",
   "execution_count": 30,
   "metadata": {},
   "outputs": [],
   "source": [
    "# scaling for PCA\n",
    "from sklearn.preprocessing import StandardScaler\n",
    "\n",
    "pca_df = data1\n",
    "pca_df_final = StandardScaler().fit_transform(pca_df)"
   ]
  },
  {
   "cell_type": "code",
   "execution_count": 31,
   "metadata": {},
   "outputs": [],
   "source": [
    "# Plotting datafram\n",
    "from sklearn.decomposition import PCA\n",
    "pca = PCA(n_components=2)\n",
    "principalComponents = pca.fit_transform(pca_df_final)\n",
    "principalDf = pd.DataFrame(data = principalComponents, columns = ['principal component 1', 'principal component 2'])"
   ]
  },
  {
   "cell_type": "code",
   "execution_count": 32,
   "metadata": {},
   "outputs": [
    {
     "data": {
      "image/png": "[encoded data removed]",
      "text/plain": [
       "<Figure size 432x288 with 2 Axes>"
      ]
     },
     "metadata": {
      "needs_background": "light"
     },
     "output_type": "display_data"
    }
   ],
   "source": [
    "principalDf.plot.scatter('principal component 1', 'principal component 2', c=labels, colormap='rainbow')\n",
    "plt.tight_layout()\n",
    "plt.title(\"PCA Plot of Pizza Shops\")\n",
    "plt.savefig('pca_colorcodedbycluster.png')"
   ]
  },
  {
   "cell_type": "code",
   "execution_count": 33,
   "metadata": {},
   "outputs": [
    {
     "data": {
      "image/png": "[encoded data removed]",
      "text/plain": [
       "<Figure size 432x288 with 1 Axes>"
      ]
     },
     "metadata": {
      "needs_background": "light"
     },
     "output_type": "display_data"
    }
   ],
   "source": [
    "final_df.area = pd.Categorical(final_df.area)\n",
    "final_df['area code'] = final_df.area.cat.codes\n",
    "principalDf.plot.scatter('principal component 1', 'principal component 2')\n",
    "plt.tight_layout()\n",
    "plt.title(\"PCA Plot of Pizza Shops\")\n",
    "plt.savefig('PCA_Plot_pizza_not_colorcoded.png')"
   ]
  },
  {
   "cell_type": "code",
   "execution_count": 34,
   "metadata": {},
   "outputs": [
    {
     "data": {
      "text/plain": [
       "Index(['restaurant', 'area', 'weekday_lunch_avg', 'weekend_lunch_avg',\n",
       "       'lunch_avg', 'weekday_dinner_avg', 'weekend_dinner_avg', 'dinner_avg',\n",
       "       'l8_nite_avg', 'area code'],\n",
       "      dtype='object')"
      ]
     },
     "execution_count": 34,
     "metadata": {},
     "output_type": "execute_result"
    }
   ],
   "source": [
    "final_df.iloc[:, 9]\n",
    "final_df.columns"
   ]
  },
  {
   "cell_type": "code",
   "execution_count": 35,
   "metadata": {},
   "outputs": [
    {
     "name": "stderr",
     "output_type": "stream",
     "text": [
      "C:\\Users\\cathe\\Anaconda3\\lib\\site-packages\\ipykernel_launcher.py:11: SettingWithCopyWarning: \n",
      "A value is trying to be set on a copy of a slice from a DataFrame.\n",
      "Try using .loc[row_indexer,col_indexer] = value instead\n",
      "\n",
      "See the caveats in the documentation: http://pandas.pydata.org/pandas-docs/stable/indexing.html#indexing-view-versus-copy\n",
      "  # This is added back by InteractiveShellApp.init_path()\n"
     ]
    },
    {
     "data": {
      "text/html": [
       "<div>\n",
       "<style scoped>\n",
       "    .dataframe tbody tr th:only-of-type {\n",
       "        vertical-align: middle;\n",
       "    }\n",
       "\n",
       "    .dataframe tbody tr th {\n",
       "        vertical-align: top;\n",
       "    }\n",
       "\n",
       "    .dataframe thead th {\n",
       "        text-align: right;\n",
       "    }\n",
       "</style>\n",
       "<table border=\"1\" class=\"dataframe\">\n",
       "  <thead>\n",
       "    <tr style=\"text-align: right;\">\n",
       "      <th></th>\n",
       "      <th>id</th>\n",
       "      <th>Neighb</th>\n",
       "      <th>Restaurant</th>\n",
       "      <th>Hour</th>\n",
       "      <th>Monday</th>\n",
       "      <th>Tuesday</th>\n",
       "      <th>Wednesday</th>\n",
       "      <th>Thursday</th>\n",
       "      <th>Friday</th>\n",
       "      <th>Saturday</th>\n",
       "      <th>Sunday</th>\n",
       "      <th>UpdatedHour</th>\n",
       "      <th>WeekdayHourSum</th>\n",
       "      <th>WeekendHourSum</th>\n",
       "      <th>Cluster</th>\n",
       "    </tr>\n",
       "  </thead>\n",
       "  <tbody>\n",
       "    <tr>\n",
       "      <th>792</th>\n",
       "      <td>ChIJFQHMOa-AhYARnfFStDNx8c8</td>\n",
       "      <td>Polk</td>\n",
       "      <td>Presidio Pizza Company</td>\n",
       "      <td>0.0</td>\n",
       "      <td>0.0</td>\n",
       "      <td>0.0</td>\n",
       "      <td>0.0</td>\n",
       "      <td>0.0</td>\n",
       "      <td>0.0</td>\n",
       "      <td>30.0</td>\n",
       "      <td>46.0</td>\n",
       "      <td>24.0</td>\n",
       "      <td>0.0</td>\n",
       "      <td>76.0</td>\n",
       "      <td>1</td>\n",
       "    </tr>\n",
       "    <tr>\n",
       "      <th>793</th>\n",
       "      <td>ChIJFQHMOa-AhYARnfFStDNx8c8</td>\n",
       "      <td>Polk</td>\n",
       "      <td>Presidio Pizza Company</td>\n",
       "      <td>1.0</td>\n",
       "      <td>0.0</td>\n",
       "      <td>0.0</td>\n",
       "      <td>0.0</td>\n",
       "      <td>0.0</td>\n",
       "      <td>0.0</td>\n",
       "      <td>16.0</td>\n",
       "      <td>76.0</td>\n",
       "      <td>25.0</td>\n",
       "      <td>0.0</td>\n",
       "      <td>92.0</td>\n",
       "      <td>1</td>\n",
       "    </tr>\n",
       "    <tr>\n",
       "      <th>794</th>\n",
       "      <td>ChIJFQHMOa-AhYARnfFStDNx8c8</td>\n",
       "      <td>Polk</td>\n",
       "      <td>Presidio Pizza Company</td>\n",
       "      <td>2.0</td>\n",
       "      <td>0.0</td>\n",
       "      <td>0.0</td>\n",
       "      <td>0.0</td>\n",
       "      <td>0.0</td>\n",
       "      <td>0.0</td>\n",
       "      <td>0.0</td>\n",
       "      <td>0.0</td>\n",
       "      <td>26.0</td>\n",
       "      <td>0.0</td>\n",
       "      <td>0.0</td>\n",
       "      <td>1</td>\n",
       "    </tr>\n",
       "    <tr>\n",
       "      <th>795</th>\n",
       "      <td>ChIJFQHMOa-AhYARnfFStDNx8c8</td>\n",
       "      <td>Polk</td>\n",
       "      <td>Presidio Pizza Company</td>\n",
       "      <td>3.0</td>\n",
       "      <td>0.0</td>\n",
       "      <td>0.0</td>\n",
       "      <td>0.0</td>\n",
       "      <td>0.0</td>\n",
       "      <td>0.0</td>\n",
       "      <td>0.0</td>\n",
       "      <td>0.0</td>\n",
       "      <td>3.0</td>\n",
       "      <td>0.0</td>\n",
       "      <td>0.0</td>\n",
       "      <td>1</td>\n",
       "    </tr>\n",
       "    <tr>\n",
       "      <th>796</th>\n",
       "      <td>ChIJFQHMOa-AhYARnfFStDNx8c8</td>\n",
       "      <td>Polk</td>\n",
       "      <td>Presidio Pizza Company</td>\n",
       "      <td>4.0</td>\n",
       "      <td>0.0</td>\n",
       "      <td>0.0</td>\n",
       "      <td>0.0</td>\n",
       "      <td>0.0</td>\n",
       "      <td>0.0</td>\n",
       "      <td>0.0</td>\n",
       "      <td>0.0</td>\n",
       "      <td>4.0</td>\n",
       "      <td>0.0</td>\n",
       "      <td>0.0</td>\n",
       "      <td>1</td>\n",
       "    </tr>\n",
       "  </tbody>\n",
       "</table>\n",
       "</div>"
      ],
      "text/plain": [
       "                              id Neighb              Restaurant  Hour  Monday  \\\n",
       "792  ChIJFQHMOa-AhYARnfFStDNx8c8   Polk  Presidio Pizza Company   0.0     0.0   \n",
       "793  ChIJFQHMOa-AhYARnfFStDNx8c8   Polk  Presidio Pizza Company   1.0     0.0   \n",
       "794  ChIJFQHMOa-AhYARnfFStDNx8c8   Polk  Presidio Pizza Company   2.0     0.0   \n",
       "795  ChIJFQHMOa-AhYARnfFStDNx8c8   Polk  Presidio Pizza Company   3.0     0.0   \n",
       "796  ChIJFQHMOa-AhYARnfFStDNx8c8   Polk  Presidio Pizza Company   4.0     0.0   \n",
       "\n",
       "     Tuesday  Wednesday  Thursday  Friday  Saturday  Sunday  UpdatedHour  \\\n",
       "792      0.0        0.0       0.0     0.0      30.0    46.0         24.0   \n",
       "793      0.0        0.0       0.0     0.0      16.0    76.0         25.0   \n",
       "794      0.0        0.0       0.0     0.0       0.0     0.0         26.0   \n",
       "795      0.0        0.0       0.0     0.0       0.0     0.0          3.0   \n",
       "796      0.0        0.0       0.0     0.0       0.0     0.0          4.0   \n",
       "\n",
       "     WeekdayHourSum  WeekendHourSum  Cluster  \n",
       "792             0.0            76.0        1  \n",
       "793             0.0            92.0        1  \n",
       "794             0.0             0.0        1  \n",
       "795             0.0             0.0        1  \n",
       "796             0.0             0.0        1  "
      ]
     },
     "execution_count": 35,
     "metadata": {},
     "output_type": "execute_result"
    }
   ],
   "source": [
    "# How are the clusters different?\n",
    "final_df['Cluster'] = labels\n",
    "restaurants = final_df.restaurant.tolist()\n",
    "# adding cluster assignment to the original pizza dataframe\n",
    "new_df = pd.DataFrame()\n",
    "for i in set(pizza_df['id']):\n",
    "    rest = pizza_df[pizza_df['id'] == i]\n",
    "    restaurant = rest.iloc[0,2]\n",
    "    rest_index = restaurants.index(restaurant)\n",
    "    clust_num = final_df.iloc[rest_index, 10]\n",
    "    rest[\"Cluster\"] = [clust_num]*24\n",
    "    new_df = pd.concat([new_df, rest])\n",
    "new_df.head()"
   ]
  },
  {
   "cell_type": "code",
   "execution_count": 36,
   "metadata": {},
   "outputs": [
    {
     "data": {
      "text/plain": [
       "{0, 1}"
      ]
     },
     "execution_count": 36,
     "metadata": {},
     "output_type": "execute_result"
    }
   ],
   "source": [
    "set(new_df['Cluster'])"
   ]
  },
  {
   "cell_type": "code",
   "execution_count": 37,
   "metadata": {},
   "outputs": [
    {
     "name": "stdout",
     "output_type": "stream",
     "text": [
      "[57.529411764705884, 48.411764705882355, 8.529411764705882, 0.0, 0.0, 0.0, 0.0, 0.0, 0.0, 0.0, 0.4117647058823529, 4.294117647058823, 11.176470588235293, 20.11764705882353, 21.294117647058822, 24.529411764705884, 31.058823529411764, 39.76470588235294, 49.529411764705884, 59.94117647058823, 68.0, 67.11764705882354, 61.529411764705884, 66.58823529411765]\n",
      "[1.5625, 0.0, 0.0, 0.0, 0.0, 0.0, 0.0, 0.0, 0.0, 0.34375, 2.15625, 12.1875, 24.59375, 33.71875, 34.1875, 33.1875, 36.59375, 48.78125, 65.34375, 75.78125, 66.78125, 48.1875, 23.9375, 7.84375]\n"
     ]
    }
   ],
   "source": [
    "# Grouping new_df by cluster assignment to plot time distribution\n",
    "#new_df.groupby(\"Cluster\")[['Monday', 'Tuesday', 'Wednesday', 'Thursday', 'Friday', 'Saturday', 'Sunday']].sum()\n",
    "#clust_hour = new_df.groupby(['Cluster', 'Hour'])[['Hour']].sum()\n",
    "#clust_hour[clust_hour.index==[0]]\n",
    "\n",
    "# The clusters are numbered 2 and 4\n",
    "clust2 = new_df[new_df['Cluster']==1]\n",
    "clust3 = new_df[new_df['Cluster']==0]\n",
    "\n",
    "# Need to find the number of restuarant in each cluster\n",
    "# Need to sum busyness for each hour for each restaurant in each cluster\n",
    "\n",
    "num2 = len(clust2.groupby('Restaurant')['Saturday'].sum())\n",
    "sat_sums2 = clust2.groupby(['Restaurant', 'Hour'])['Saturday'].sum()\n",
    "\n",
    "num3 = len(clust3.groupby('Restaurant')['Saturday'].sum())\n",
    "sat_sums3 = clust3.groupby(['Restaurant', 'Hour'])['Saturday'].sum()\n",
    "\n",
    "data2 = []\n",
    "for i in range(num2):\n",
    "    rest = [sat_sums2.index.get_level_values(0)[i*24]]\n",
    "    sums2 = sat_sums2[i*24:i*24+24].tolist()\n",
    "    data2.append(sums2)\n",
    "    \n",
    "clust2_hourly = pd.DataFrame(data2)\n",
    "clust2_hourly_sums = clust2_hourly.sum().tolist()\n",
    "clust2_hourly_avg = [s/num2 for s in clust2_hourly_sums]\n",
    "print(clust2_hourly_avg)\n",
    "\n",
    "data3 = []\n",
    "for i in range(num3):\n",
    "    rest = [sat_sums3.index.get_level_values(0)[i*24]]\n",
    "    sums3 = sat_sums3[i*24:i*24+24].tolist()\n",
    "    data3.append(sums3)\n",
    "\n",
    "clust3_hourly = pd.DataFrame(data3)\n",
    "clust3_hourly_sums = clust3_hourly.sum().tolist()\n",
    "clust3_hourly_avg = [s/num3 for s in clust3_hourly_sums]\n",
    "print(clust3_hourly_avg)"
   ]
  },
  {
   "cell_type": "code",
   "execution_count": 38,
   "metadata": {},
   "outputs": [
    {
     "data": {
      "text/plain": [
       "Text(0, 0.5, 'Busyness')"
      ]
     },
     "execution_count": 38,
     "metadata": {},
     "output_type": "execute_result"
    },
    {
     "data": {
      "image/png": "[encoded data removed]",
      "text/plain": [
       "<Figure size 432x288 with 1 Axes>"
      ]
     },
     "metadata": {
      "needs_background": "light"
     },
     "output_type": "display_data"
    }
   ],
   "source": [
    "# Plotting the distributions\n",
    "hours = list(range(0,24))\n",
    "plt.plot(clust2_hourly_avg) \n",
    "plt.plot(clust3_hourly_avg)\n",
    "plt.legend(['Cluster 0', 'Cluster 1'])\n",
    "plt.title('Average Traffic For Each Cluster')\n",
    "plt.xlabel('Hour')\n",
    "plt.ylabel('Busyness')"
   ]
  },
  {
   "cell_type": "code",
   "execution_count": 39,
   "metadata": {},
   "outputs": [
    {
     "data": {
      "text/plain": [
       "Text(0, 0.5, 'Busyness')"
      ]
     },
     "execution_count": 39,
     "metadata": {},
     "output_type": "execute_result"
    },
    {
     "data": {
      "image/png": "[encoded data removed]",
      "text/plain": [
       "<Figure size 432x288 with 1 Axes>"
      ]
     },
     "metadata": {
      "needs_background": "light"
     },
     "output_type": "display_data"
    }
   ],
   "source": [
    "# Shifting the hours\n",
    "new_clust2_hourly = clust2_hourly_avg[3:]+clust2_hourly_avg[:3]\n",
    "new_clust3_hourly = clust3_hourly_avg[3:]+clust3_hourly_avg[:3]\n",
    "new_hours = [3, 4, 5, 6, 7, 8, 9, 10, 11, 12, 13, 14, 15, 16, 17, 18, 19, 20, 21, 22, 23, 24, 25, 26]\n",
    "\n",
    "plt.plot(new_hours, new_clust2_hourly)\n",
    "plt.plot(new_hours, new_clust3_hourly)\n",
    "plt.legend(['Cluster 0', 'Cluster 1'])\n",
    "plt.title('Average Traffic For Each Cluster')\n",
    "plt.xlabel('Hour')\n",
    "plt.ylabel('Busyness')"
   ]
  },
  {
   "cell_type": "code",
   "execution_count": 42,
   "metadata": {},
   "outputs": [],
   "source": [
    "# Finding the Variance-Covariance Matrices for the two clusters\n",
    "#print(\"Cluster Means: \\n\", fit.means_)\n",
    "#print(\"\\nCluster Covariance Matrices: \\n\", fit.covariances_)"
   ]
  },
  {
   "cell_type": "code",
   "execution_count": 28,
   "metadata": {},
   "outputs": [],
   "source": [
    "# Where are the areas for each cluster\n",
    "#set(clust3['Neighb'])\n",
    "clust3_area_count = clust3.groupby(['Restaurant','Neighb'])['id'].count()\n",
    "clust2_area_count = clust2.groupby(['Restaurant','Neighb'])['id'].count()\n",
    "test = list(clust2_area_count.index.get_level_values(1))"
   ]
  },
  {
   "cell_type": "code",
   "execution_count": 30,
   "metadata": {},
   "outputs": [
    {
     "data": {
      "text/plain": [
       "Restaurant                  Neighb            \n",
       "Donairo's Pizza             Richmond              24\n",
       "Golden Boy Pizza            North Beach           24\n",
       "Himalayan Pizza & Momo      Fillmore              24\n",
       "Mr. Pizza Man               Mission               24\n",
       "Nizario's Pizza (Broadway)  North Beach           24\n",
       "Nizario's Pizza Geary Blvd  Richmond              24\n",
       "Nizario's Pizza The Castro  Mission               24\n",
       "Papa John's Pizza           Polk                  24\n",
       "Paris Pizza & Grill         North Beach           24\n",
       "Pizzelle di North Beach     North Beach           24\n",
       "Presidio Pizza Company      Polk                  24\n",
       "Primo Pizza                 Fillmore              24\n",
       "SF Hole In The Wall Pizza   Sunset                24\n",
       "SF Hole in the Wall Pizza   Polk                  24\n",
       "Sam’s Pizza & Burgers       North Beach           24\n",
       "Seniore's Pizza             Fillmore              24\n",
       "SoMa Pizza                  Financial District    24\n",
       "Name: id, dtype: int64"
      ]
     },
     "execution_count": 30,
     "metadata": {},
     "output_type": "execute_result"
    }
   ],
   "source": [
    "clust3_area_count"
   ]
  },
  {
   "cell_type": "code",
   "execution_count": 31,
   "metadata": {},
   "outputs": [
    {
     "data": {
      "text/plain": [
       "['Polk',\n",
       " 'Fillmore',\n",
       " 'Financial District',\n",
       " 'Sunset',\n",
       " 'Financial District',\n",
       " 'Financial District',\n",
       " 'Richmond',\n",
       " 'Richmond',\n",
       " 'Richmond',\n",
       " 'Financial District',\n",
       " 'Sunset',\n",
       " 'North Beach',\n",
       " 'Financial District',\n",
       " 'Fillmore',\n",
       " 'North Beach',\n",
       " 'Financial District',\n",
       " 'Polk',\n",
       " 'Fillmore',\n",
       " 'Richmond',\n",
       " 'Mission',\n",
       " 'Polk',\n",
       " 'Financial District',\n",
       " 'Richmond',\n",
       " 'Mission',\n",
       " 'Sunset',\n",
       " 'North Beach',\n",
       " 'North Beach',\n",
       " 'Financial District',\n",
       " 'Mission',\n",
       " 'Polk',\n",
       " 'Richmond',\n",
       " 'Polk']"
      ]
     },
     "execution_count": 31,
     "metadata": {},
     "output_type": "execute_result"
    }
   ],
   "source": [
    "list(clust2_area_count.index.get_level_values(1))"
   ]
  },
  {
   "cell_type": "code",
   "execution_count": 32,
   "metadata": {},
   "outputs": [
    {
     "data": {
      "text/plain": [
       "['Richmond',\n",
       " 'North Beach',\n",
       " 'Fillmore',\n",
       " 'Mission',\n",
       " 'North Beach',\n",
       " 'Richmond',\n",
       " 'Mission',\n",
       " 'Polk',\n",
       " 'North Beach',\n",
       " 'North Beach',\n",
       " 'Polk',\n",
       " 'Fillmore',\n",
       " 'Sunset',\n",
       " 'Polk',\n",
       " 'North Beach',\n",
       " 'Fillmore',\n",
       " 'Financial District']"
      ]
     },
     "execution_count": 32,
     "metadata": {},
     "output_type": "execute_result"
    }
   ],
   "source": [
    "list(clust3_area_count.index.get_level_values(1))"
   ]
  },
  {
   "cell_type": "code",
   "execution_count": 71,
   "metadata": {},
   "outputs": [
    {
     "data": {
      "text/plain": [
       "<bound method IndexOpsMixin.value_counts of Restaurant                  Neighb            \n",
       "Donairo's Pizza             Richmond              24\n",
       "Golden Boy Pizza            North Beach           24\n",
       "Himalayan Pizza & Momo      Fillmore              24\n",
       "Mr. Pizza Man               Mission               24\n",
       "Nizario's Pizza (Broadway)  North Beach           24\n",
       "Nizario's Pizza Geary Blvd  Richmond              24\n",
       "Nizario's Pizza The Castro  Mission               24\n",
       "Papa John's Pizza           Polk                  24\n",
       "Paris Pizza & Grill         North Beach           24\n",
       "Pizzelle di North Beach     North Beach           24\n",
       "Presidio Pizza Company      Polk                  24\n",
       "Primo Pizza                 Fillmore              24\n",
       "SF Hole In The Wall Pizza   Sunset                24\n",
       "SF Hole in the Wall Pizza   Polk                  24\n",
       "Sam’s Pizza & Burgers       North Beach           24\n",
       "Seniore's Pizza             Fillmore              24\n",
       "SoMa Pizza                  Financial District    24\n",
       "Name: id, dtype: int64>"
      ]
     },
     "execution_count": 71,
     "metadata": {},
     "output_type": "execute_result"
    }
   ],
   "source": [
    "test = list(clust2_area_count.index.get_level_values(1))\n"
   ]
  }
 ],
 "metadata": {
  "kernelspec": {
   "display_name": "Python 3",
   "language": "python",
   "name": "python3"
  },
  "language_info": {
   "codemirror_mode": {
    "name": "ipython",
    "version": 3
   },
   "file_extension": ".py",
   "mimetype": "text/x-python",
   "name": "python",
   "nbconvert_exporter": "python",
   "pygments_lexer": "ipython3",
   "version": "3.7.1"
  }
 },
 "nbformat": 4,
 "nbformat_minor": 2
}
